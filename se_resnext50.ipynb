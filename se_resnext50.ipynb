{
 "cells": [
  {
   "cell_type": "markdown",
   "metadata": {},
   "source": [
    "I didn't manage to train this model - might be because I ended up using too a small batch size, maybe I gave up too quickly, or maybe for some other reason.\n",
    "\n",
    "Leaving this here as a reference - it modifies the base architecture so that it can be run with any input size and uses forward hook to grab cnn activations."
   ]
  },
  {
   "cell_type": "code",
   "execution_count": null,
   "metadata": {},
   "outputs": [],
   "source": [
    "class CustomModel(nn.Module):\n",
    "    def __init__(self):\n",
    "        super().__init__()\n",
    "        self.cnn = pretrainedmodels.se_resnext50_32x4d()\n",
    "        self.cnn.avg_pool = Lambda(lambda x: x.view(BS, 2048, -1).mean(-1)) # this allows the model to be run on any size of input\n",
    "        self.cnn_out = []\n",
    "        nn.Module.register_forward_hook(self.cnn.layer4, self.grab_output)\n",
    "        \n",
    "        self.head = create_head(4096, 5004, [2048])\n",
    "        self.ada_concat = AdaptiveConcatPool2d(1)\n",
    "            \n",
    "    def grab_output(self, mod, inp, out):\n",
    "        self.cnn_out.append(out)\n",
    "        \n",
    "    def forward(self, ims_a, ims_b):\n",
    "        self.cnn(ims_a)\n",
    "        cnn_out_a = self.cnn_out[0]\n",
    "        out_a = self.head(cnn_out_a)\n",
    "        self.cnn_out = []\n",
    "        \n",
    "        self.cnn(ims_b)\n",
    "        cnn_out_b = self.cnn_out[0]\n",
    "        out_b = self.head(cnn_out_b)\n",
    "        self.cnn_out = []\n",
    "        \n",
    "        return out_a, out_b, self.ada_concat(cnn_out_a).squeeze(), self.ada_concat(cnn_out_b).squeeze()"
   ]
  }
 ],
 "metadata": {
  "kernelspec": {
   "display_name": "Python 3",
   "language": "python",
   "name": "python3"
  },
  "language_info": {
   "codemirror_mode": {
    "name": "ipython",
    "version": 3
   },
   "file_extension": ".py",
   "mimetype": "text/x-python",
   "name": "python",
   "nbconvert_exporter": "python",
   "pygments_lexer": "ipython3",
   "version": "3.7.0"
  }
 },
 "nbformat": 4,
 "nbformat_minor": 2
}
